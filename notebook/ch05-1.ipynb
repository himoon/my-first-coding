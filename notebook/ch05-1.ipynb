{
 "metadata": {
  "language_info": {
   "codemirror_mode": {
    "name": "ipython",
    "version": 3
   },
   "file_extension": ".py",
   "mimetype": "text/x-python",
   "name": "python",
   "nbconvert_exporter": "python",
   "pygments_lexer": "ipython3",
   "version": "3.8.9"
  },
  "orig_nbformat": 4,
  "kernelspec": {
   "name": "python3",
   "display_name": "Python 3.8.9 64-bit ('.venv': venv)"
  },
  "interpreter": {
   "hash": "da079680f061b1b71279786d92ed74b3ca3fcb31d80397c0ef19f5994c1c6403"
  }
 },
 "nbformat": 4,
 "nbformat_minor": 2,
 "cells": [
  {
   "source": [
    "# 혼자 공부하는 첫 프로그래밍 with 파이썬 예제코드 - Chapter 05-1 반복 알아보기"
   ],
   "cell_type": "markdown",
   "metadata": {}
  },
  {
   "source": [
    "### repeat-while01.py"
   ],
   "cell_type": "markdown",
   "metadata": {}
  },
  {
   "cell_type": "code",
   "execution_count": null,
   "metadata": {},
   "outputs": [],
   "source": [
    "count = 1\n",
    "while count < 4:\n",
    "    print(str(count) + \"!\")\n",
    "    count = count + 1"
   ]
  },
  {
   "source": [
    "### repeat-while02.py"
   ],
   "cell_type": "markdown",
   "metadata": {}
  },
  {
   "cell_type": "code",
   "execution_count": null,
   "metadata": {},
   "outputs": [],
   "source": [
    "count = 3\n",
    "while count > 0:\n",
    "    print(count)\n",
    "    count = count - 1"
   ]
  },
  {
   "source": [
    "### repeat-for01.py"
   ],
   "cell_type": "markdown",
   "metadata": {}
  },
  {
   "cell_type": "code",
   "execution_count": null,
   "metadata": {},
   "outputs": [],
   "source": [
    "egg_list = [\"달걀1\", \"달걀2\", \"달걀3\"]\n",
    "for egg in egg_list:\n",
    "    print(\"달걀 프라이를 만듭니다.\")"
   ]
  },
  {
   "source": [
    "### repeat-for02.py"
   ],
   "cell_type": "markdown",
   "metadata": {}
  },
  {
   "cell_type": "code",
   "execution_count": null,
   "metadata": {},
   "outputs": [],
   "source": [
    "egg_list = [\"달걀1\", \"달걀2\", \"달걀3\"]\n",
    "for egg in egg_list:\n",
    "    print(egg + \": 달걀 프라이를 만듭니다.\")"
   ]
  },
  {
   "source": [
    "### for-range01.py"
   ],
   "cell_type": "markdown",
   "metadata": {}
  },
  {
   "cell_type": "code",
   "execution_count": null,
   "metadata": {},
   "outputs": [],
   "source": [
    "egg_list = range(3)\n",
    "for egg in egg_list:\n",
    "    print(\"달걀 프라이를 만듭니다.\")"
   ]
  },
  {
   "source": [
    "### for-range02.py"
   ],
   "cell_type": "markdown",
   "metadata": {}
  },
  {
   "cell_type": "code",
   "execution_count": null,
   "metadata": {},
   "outputs": [],
   "source": [
    "egg_list = range(3)\n",
    "for egg in egg_list:\n",
    "    print(str(egg) + \": 달걀 프라이를 만듭니다.\")"
   ]
  },
  {
   "source": [
    "### for-range03.py"
   ],
   "cell_type": "markdown",
   "metadata": {}
  },
  {
   "cell_type": "code",
   "execution_count": null,
   "metadata": {},
   "outputs": [],
   "source": [
    "egg_list = range(100)\n",
    "for egg in egg_list:\n",
    "    print(str(egg) + \": 달걀 프라이를 만듭니다.\")"
   ]
  },
  {
   "source": [
    "### for-break01.py"
   ],
   "cell_type": "markdown",
   "metadata": {}
  },
  {
   "cell_type": "code",
   "execution_count": null,
   "metadata": {},
   "outputs": [],
   "source": [
    "count = range(3)\n",
    "for n in count:\n",
    "    print(str(n + 1) + \"!\")"
   ]
  },
  {
   "source": [
    "### for-break02.py"
   ],
   "cell_type": "markdown",
   "metadata": {}
  },
  {
   "cell_type": "code",
   "execution_count": null,
   "metadata": {},
   "outputs": [],
   "source": [
    "count = range(3)\n",
    "for n in count:\n",
    "    print(str(n + 1) + \"!\")\n",
    "    break\n",
    "    print(\"이후의 코드는 처리되지 않습니다.\")"
   ]
  },
  {
   "source": [
    "### for-break03.py"
   ],
   "cell_type": "markdown",
   "metadata": {}
  },
  {
   "cell_type": "code",
   "execution_count": null,
   "metadata": {},
   "outputs": [],
   "source": [
    "count = range(30)\n",
    "for n in count:\n",
    "    print(str(n + 1) + \"!\")\n",
    "    if (n + 1) == 3:\n",
    "        print(\"그만!\")\n",
    "        break"
   ]
  },
  {
   "source": [
    "### for-continue01.py"
   ],
   "cell_type": "markdown",
   "metadata": {}
  },
  {
   "cell_type": "code",
   "execution_count": null,
   "metadata": {},
   "outputs": [],
   "source": [
    "count = range(10)\n",
    "for n in count:\n",
    "    if (n + 1) % 3 != 0:\n",
    "        continue\n",
    "    print(str(n + 1) + \"!\")"
   ]
  },
  {
   "source": [
    "### 확인문제 1"
   ],
   "cell_type": "markdown",
   "metadata": {}
  },
  {
   "cell_type": "code",
   "execution_count": null,
   "metadata": {},
   "outputs": [],
   "source": [
    "count = 5\n",
    "while count >= 0:\n",
    "    print(str(count) + \"!\")\n",
    "    count = count - 1"
   ]
  },
  {
   "source": [
    "### 확인문제 2"
   ],
   "cell_type": "markdown",
   "metadata": {}
  },
  {
   "cell_type": "code",
   "execution_count": null,
   "metadata": {},
   "outputs": [],
   "source": [
    "count = [5, 4, 3, 2, 1]\n",
    "for x in count:\n",
    "    print(str(x) + \"!\")"
   ]
  },
  {
   "source": [
    "### 확인문제 3"
   ],
   "cell_type": "markdown",
   "metadata": {}
  },
  {
   "cell_type": "code",
   "execution_count": null,
   "metadata": {},
   "outputs": [],
   "source": [
    "count = range(10)\n",
    "for n in count:\n",
    "    if (n + 1) % 3 == 0:\n",
    "        print(\"짝!\")\n",
    "    else:\n",
    "        print(n + 1)"
   ]
  },
  {
   "source": [
    "### 확인문제 4"
   ],
   "cell_type": "markdown",
   "metadata": {}
  },
  {
   "cell_type": "code",
   "execution_count": null,
   "metadata": {},
   "outputs": [],
   "source": [
    "words = [\"혼자\", \"공부하는\", \"첫\", \"프로그래밍\", \"!\"]\n",
    "for x in words:\n",
    "    if x == \"첫\":\n",
    "        print(\"첫 프로그래밍!\")\n",
    "        break\n",
    "    print(x)"
   ]
  },
  {
   "source": [
    "### 확인문제 5"
   ],
   "cell_type": "markdown",
   "metadata": {}
  },
  {
   "cell_type": "code",
   "execution_count": null,
   "metadata": {},
   "outputs": [],
   "source": [
    "count = range(20)\n",
    "for x in count:\n",
    "    if ((x + 1) % 10) != 0:\n",
    "        continue\n",
    "    print(str(x + 1) + \"!\")"
   ]
  }
 ]
}
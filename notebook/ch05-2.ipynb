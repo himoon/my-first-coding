{
 "metadata": {
  "language_info": {
   "codemirror_mode": {
    "name": "ipython",
    "version": 3
   },
   "file_extension": ".py",
   "mimetype": "text/x-python",
   "name": "python",
   "nbconvert_exporter": "python",
   "pygments_lexer": "ipython3",
   "version": "3.8.9"
  },
  "orig_nbformat": 4,
  "kernelspec": {
   "name": "python3",
   "display_name": "Python 3.8.9 64-bit ('.venv': venv)"
  },
  "interpreter": {
   "hash": "da079680f061b1b71279786d92ed74b3ca3fcb31d80397c0ef19f5994c1c6403"
  }
 },
 "nbformat": 4,
 "nbformat_minor": 2,
 "cells": [
  {
   "source": [
    "# 혼자 공부하는 첫 프로그래밍 with 파이썬 예제코드 - Chapter 05-2 데이터 세트와 for 반복"
   ],
   "cell_type": "markdown",
   "metadata": {}
  },
  {
   "source": [
    "### for-str01.py"
   ],
   "cell_type": "markdown",
   "metadata": {}
  },
  {
   "cell_type": "code",
   "execution_count": null,
   "metadata": {},
   "outputs": [],
   "source": [
    "string = \"혼공족\"\n",
    "for char in string:\n",
    "    print(char)"
   ]
  },
  {
   "source": [
    "### for-list01.py"
   ],
   "cell_type": "markdown",
   "metadata": {}
  },
  {
   "cell_type": "code",
   "execution_count": null,
   "metadata": {},
   "outputs": [],
   "source": [
    "book_list = [\"혼자 공부하는 첫 프로그래밍\", \"혼자 공부하는 파이썬\"]\n",
    "for book in book_list:\n",
    "    print(book)"
   ]
  },
  {
   "source": [
    "### for-list02.py"
   ],
   "cell_type": "markdown",
   "metadata": {}
  },
  {
   "cell_type": "code",
   "execution_count": null,
   "metadata": {},
   "outputs": [],
   "source": [
    "name_set = [\"드링킹 요구르트\", \"딸기 우유\"]\n",
    "price_set = [1800, 1500]\n",
    "qty_set = [4, 2]\n",
    "\n",
    "# 곧 for 반복문으로 아래 코드를 반복 처리하겠습니다\n",
    "name = name_set[0]\n",
    "sales = price_set[0] * qty_set[0]\n",
    "print(name + \" 매출액 : \" + str(sales))\n",
    "\n",
    "name = name_set[1]\n",
    "sales = price_set[1] * qty_set[1]\n",
    "print(name + \" 매출액 : \" + str(sales))"
   ]
  },
  {
   "source": [
    "### for-list03.py"
   ],
   "cell_type": "markdown",
   "metadata": {}
  },
  {
   "cell_type": "code",
   "execution_count": null,
   "metadata": {},
   "outputs": [],
   "source": [
    "name_set = [\"드링킹 요구르트\", \"딸기 우유\"]\n",
    "price_set = [1800, 1500]\n",
    "qty_set = [4, 2]\n",
    "\n",
    "for i in [0, 1]:\n",
    "    name = name_set[i]\n",
    "    sales = price_set[i] * qty_set[i]\n",
    "    print(name + \" 매출액 : \" + str(sales))"
   ]
  },
  {
   "source": [
    "### for-list04.py"
   ],
   "cell_type": "markdown",
   "metadata": {}
  },
  {
   "cell_type": "code",
   "execution_count": null,
   "metadata": {},
   "outputs": [],
   "source": [
    "name_set = [\"드링킹 요구르트\", \"딸기 우유\", \"홈런공\"]\n",
    "price_set = [1800, 1500, 1000]\n",
    "qty_set = [4, 2, 3]\n",
    "\n",
    "for i in [0, 1, 2]:\n",
    "    name = name_set[i]\n",
    "    sales = price_set[i] * qty_set[i]\n",
    "    print(name + \" 매출액 : \" + str(sales))"
   ]
  },
  {
   "source": [
    "### index01.py"
   ],
   "cell_type": "markdown",
   "metadata": {}
  },
  {
   "cell_type": "code",
   "execution_count": null,
   "metadata": {},
   "outputs": [],
   "source": [
    "name_set = [\"드링킹 요구르트\", \"딸기 우유\", \"홈런공\"]\n",
    "for i in [0, 1, 2]:\n",
    "    print(name_set[i])"
   ]
  },
  {
   "source": [
    "### index02.py"
   ],
   "cell_type": "markdown",
   "metadata": {}
  },
  {
   "cell_type": "code",
   "execution_count": null,
   "metadata": {},
   "outputs": [],
   "source": [
    "name_set = [\"드링킹 요구르트\", \"딸기 우유\", \"홈런공\"]\n",
    "for i in range(3):\n",
    "    print(name_set[i])"
   ]
  },
  {
   "source": [
    "### index03.py"
   ],
   "cell_type": "markdown",
   "metadata": {}
  },
  {
   "cell_type": "code",
   "execution_count": null,
   "metadata": {},
   "outputs": [],
   "source": [
    "book_list = [\"혼자 공부하는 첫 프로그래밍\", \"혼자 공부하는 파이썬\"]\n",
    "print(len(book_list))\n",
    "\n",
    "count_down = [10, 9, 8, 7, 6, 5, 4, 3, 2, 1]\n",
    "print(len(count_down))"
   ]
  },
  {
   "source": [
    "### index04.py"
   ],
   "cell_type": "markdown",
   "metadata": {}
  },
  {
   "cell_type": "code",
   "execution_count": null,
   "metadata": {},
   "outputs": [],
   "source": [
    "name_set = [\"드링킹 요구르트\", \"딸기 우유\", \"홈런공\"]\n",
    "for i in range(len(name_set)):\n",
    "    print(name_set[i])"
   ]
  },
  {
   "source": [
    "### index05.py"
   ],
   "cell_type": "markdown",
   "metadata": {}
  },
  {
   "cell_type": "code",
   "execution_count": null,
   "metadata": {},
   "outputs": [],
   "source": [
    "name_set = [\"드링킹 요구르트\", \"딸기 우유\"]\n",
    "price_set = [1800, 1500]\n",
    "qty_set = [4, 2]\n",
    "\n",
    "for i in range(len(name_set)):\n",
    "    name = name_set[i]\n",
    "    sales = price_set[i] * qty_set[i]\n",
    "    print(name + \" 매출액 : \" + str(sales))"
   ]
  },
  {
   "source": [
    "### index06.py"
   ],
   "cell_type": "markdown",
   "metadata": {}
  },
  {
   "cell_type": "code",
   "execution_count": null,
   "metadata": {},
   "outputs": [],
   "source": [
    "name_set = [\"드링킹 요구르트\", \"딸기 우유\", \"홈런공\"]\n",
    "price_set = [1800, 1500, 1000]\n",
    "qty_set = [4, 2, 3]\n",
    "\n",
    "for i in range(len(name_set)):\n",
    "    name = name_set[i]\n",
    "    sales = price_set[i] * qty_set[i]\n",
    "    print(name + \" 매출액 : \" + str(sales))"
   ]
  },
  {
   "source": [
    "### for-dict01.py"
   ],
   "cell_type": "markdown",
   "metadata": {}
  },
  {
   "cell_type": "code",
   "execution_count": null,
   "metadata": {},
   "outputs": [],
   "source": [
    "book_list = [\"혼자 공부하는 첫 프로그래밍\", \"혼자 공부하는 파이썬\"]\n",
    "print(book_list[0])\n",
    "print(book_list[1])\n",
    "\n",
    "book_dict = {\"입문자용\": \"혼자 공부하는 첫 프로그래밍\", \"초보자용\": \"혼자 공부하는 파이썬\"}\n",
    "print(book_dict[\"입문자용\"])\n",
    "print(book_dict[\"초보자용\"])"
   ]
  },
  {
   "source": [
    "### for-dict02.py"
   ],
   "cell_type": "markdown",
   "metadata": {}
  },
  {
   "cell_type": "code",
   "execution_count": null,
   "metadata": {},
   "outputs": [],
   "source": [
    "book_list = [\"혼자 공부하는 첫 프로그래밍\", \"혼자 공부하는 파이썬\"]\n",
    "for book in book_list:\n",
    "    print(book)"
   ]
  },
  {
   "source": [
    "### for-dict03.py"
   ],
   "cell_type": "markdown",
   "metadata": {}
  },
  {
   "cell_type": "code",
   "execution_count": null,
   "metadata": {},
   "outputs": [],
   "source": [
    "book_dict = {\n",
    "    \"입문자용\": \"혼자 공부하는 첫 프로그래밍\",\n",
    "    \"초보자용\": \"혼자 공부하는 파이썬\"\n",
    "}\n",
    "for book in book_dict:\n",
    "    print(book)"
   ]
  },
  {
   "source": [
    "### for-dict04.py"
   ],
   "cell_type": "markdown",
   "metadata": {}
  },
  {
   "cell_type": "code",
   "execution_count": null,
   "metadata": {},
   "outputs": [],
   "source": [
    "book_dict = {\n",
    "    \"입문자용\": \"혼자 공부하는 첫 프로그래밍\",\n",
    "    \"초보자용\": \"혼자 공부하는 파이썬\"\n",
    "}\n",
    "for book in book_dict:\n",
    "    print(book_dict[book])"
   ]
  },
  {
   "source": [
    "### for-dict05.py"
   ],
   "cell_type": "markdown",
   "metadata": {}
  },
  {
   "cell_type": "code",
   "execution_count": null,
   "metadata": {},
   "outputs": [],
   "source": [
    "mos_qty = {\n",
    "    \"2020년6월\": [9, 5, 14, 8],\n",
    "    \"2020년7월\": [15, 6, 17, 15],\n",
    "    \"2020년8월\": [26, 18, 26, 10]\n",
    "}\n",
    "\n",
    "# 아래 코드를 for 반복문으로 처리할 예정입니다.\n",
    "month = \"2020년6월\"\n",
    "total = sum(mos_qty[month])\n",
    "print(month + \" 판매량 : \" + str(total))\n",
    "\n",
    "month = \"2020년7월\"\n",
    "total = sum(mos_qty[month])\n",
    "print(month + \" 판매량 : \" + str(total))\n",
    "\n",
    "month = \"2020년8월\"\n",
    "total = sum(mos_qty[month])\n",
    "print(month + \" 판매량 : \" + str(total))"
   ]
  },
  {
   "source": [
    "### for-dict06.py"
   ],
   "cell_type": "markdown",
   "metadata": {}
  },
  {
   "cell_type": "code",
   "execution_count": null,
   "metadata": {},
   "outputs": [],
   "source": [
    "mos_qty = {\n",
    "    \"2020년6월\": [9, 5, 14, 8],\n",
    "    \"2020년7월\": [15, 6, 17, 15],\n",
    "    \"2020년8월\": [26, 18, 26, 10]\n",
    "}\n",
    "\n",
    "for month in mos_qty:\n",
    "    total = sum(mos_qty[month])\n",
    "    print(month + \" 판매량 : \" + str(total))"
   ]
  },
  {
   "source": [
    "### 확인문제 1"
   ],
   "cell_type": "markdown",
   "metadata": {}
  },
  {
   "cell_type": "code",
   "execution_count": null,
   "metadata": {},
   "outputs": [],
   "source": [
    "coffee = \"플랫화이트\"\n",
    "for x in coffee:\n",
    "    print(x)"
   ]
  },
  {
   "source": [
    "### 확인문제 2"
   ],
   "cell_type": "markdown",
   "metadata": {}
  },
  {
   "cell_type": "code",
   "execution_count": null,
   "metadata": {},
   "outputs": [],
   "source": [
    "count = [1, 2, 3, 4, 5, 6, 7, 8, 9, 10]\n",
    "for x in count:\n",
    "    if x % 2 == 0:\n",
    "        print(str(x) + \"!\")"
   ]
  },
  {
   "source": [
    "### 확인문제 3"
   ],
   "cell_type": "markdown",
   "metadata": {}
  },
  {
   "cell_type": "code",
   "execution_count": null,
   "metadata": {},
   "outputs": [],
   "source": [
    "five = range(5)\n",
    "for x in five:\n",
    "    print((x + 1) * 3)"
   ]
  },
  {
   "source": [
    "### 확인문제 4"
   ],
   "cell_type": "markdown",
   "metadata": {}
  },
  {
   "cell_type": "code",
   "execution_count": null,
   "metadata": {},
   "outputs": [],
   "source": [
    "order = [\"아메리카노\", \"플랫 화이트\", \"화이트 초콜릿 모카\"]\n",
    "price = [3100, 4100, 4600]\n",
    "for x in range(3):\n",
    "    print(order[x] + \" : \" + str(price[x]))"
   ]
  },
  {
   "source": [
    "### 확인문제 5"
   ],
   "cell_type": "markdown",
   "metadata": {}
  },
  {
   "cell_type": "code",
   "execution_count": null,
   "metadata": {},
   "outputs": [],
   "source": [
    "scores = [990, 120]\n",
    "print(scores[0])\n",
    "print(scores[1])\n",
    "\n",
    "scores = {\"TOEIC\": 990, \"TOEFL iBT\": 120}\n",
    "print(scores[\"TOEIC\"])\n",
    "print(scores[\"TOEFL iBT\"])"
   ]
  },
  {
   "source": [
    "### 확인문제 6"
   ],
   "cell_type": "markdown",
   "metadata": {}
  },
  {
   "cell_type": "code",
   "execution_count": null,
   "metadata": {},
   "outputs": [],
   "source": [
    "order = [\"아메리카노\", \"플랫 화이트\", \"화이트 초콜릿 모카\"]\n",
    "price = {\n",
    "    \"아메리카노\": 3100,\n",
    "    \"플랫 화이트\": 4100,\n",
    "    \"화이트 초콜릿 모카\": 4600\n",
    "}\n",
    "\n",
    "for x in order:\n",
    "    print(x + \" : \" + str(price[x]))"
   ]
  },
  {
   "source": [
    "### 확인문제 7"
   ],
   "cell_type": "markdown",
   "metadata": {}
  },
  {
   "cell_type": "code",
   "execution_count": null,
   "metadata": {},
   "outputs": [],
   "source": [
    "numbers = [[1, 2, 3], [4, 5, 6]]\n",
    "\n",
    "for row in numbers:\n",
    "    total = 0\n",
    "    for x in row:\n",
    "        total = total + x\n",
    "    print(total)"
   ]
  },
  {
   "source": [
    "### 확인문제 8"
   ],
   "cell_type": "markdown",
   "metadata": {}
  },
  {
   "cell_type": "code",
   "execution_count": null,
   "metadata": {},
   "outputs": [],
   "source": [
    "menu = {\n",
    "    \"오늘의 커피\": 2800,\n",
    "    \"아메리카노\": 3100,\n",
    "    \"카푸치노\": 3600,\n",
    "    \"화이트 초콜릿 모카\": 4600,\n",
    "    \"플랫 화이트\": 4100,\n",
    "}\n",
    "\n",
    "my_order = {\n",
    "    \"플랫 화이트\": 2,\n",
    "    \"화이트 초콜릿 모카\": 1,\n",
    "}\n",
    "\n",
    "for x in my_order:\n",
    "    price = menu[x]\n",
    "    qty = my_order[x]\n",
    "    total = price * qty\n",
    "    print(x + \" \" + str(qty) + \" 잔, 합계 : \" + str(total))"
   ]
  }
 ]
}
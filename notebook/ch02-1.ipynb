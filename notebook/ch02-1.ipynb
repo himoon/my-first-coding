{
 "metadata": {
  "language_info": {
   "codemirror_mode": {
    "name": "ipython",
    "version": 3
   },
   "file_extension": ".py",
   "mimetype": "text/x-python",
   "name": "python",
   "nbconvert_exporter": "python",
   "pygments_lexer": "ipython3",
   "version": "3.8.9"
  },
  "orig_nbformat": 4,
  "kernelspec": {
   "name": "python3",
   "display_name": "Python 3.8.9 64-bit ('.venv': venv)"
  },
  "interpreter": {
   "hash": "da079680f061b1b71279786d92ed74b3ca3fcb31d80397c0ef19f5994c1c6403"
  }
 },
 "nbformat": 4,
 "nbformat_minor": 2,
 "cells": [
  {
   "source": [
    "# 혼자 공부하는 첫 프로그래밍 with 파이썬 예제코드 - Chapter 02-1 문자 데이터"
   ],
   "cell_type": "markdown",
   "metadata": {}
  },
  {
   "source": [
    "### str01.py"
   ],
   "cell_type": "markdown",
   "metadata": {}
  },
  {
   "cell_type": "code",
   "execution_count": null,
   "metadata": {},
   "outputs": [],
   "source": [
    "print(\"Hello, World!\")\n",
    "print('Hello, World!')\n",
    "print(\"2020년대를 빛낼 프로그래밍 입문서!\")\n",
    "print(\"혼자 공부하는 첫 프로그래밍!\")\n",
    "print('323')"
   ]
  },
  {
   "source": [
    "### line01.py"
   ],
   "cell_type": "markdown",
   "metadata": {}
  },
  {
   "cell_type": "code",
   "execution_count": null,
   "metadata": {},
   "outputs": [],
   "source": [
    "print(\"Hello,\\nWorld!\")\n",
    "print(\"'하나!'\\n\\\"둘!\\\"\")"
   ]
  },
  {
   "source": [
    "### 확인문제 4"
   ],
   "cell_type": "markdown",
   "metadata": {}
  },
  {
   "cell_type": "code",
   "execution_count": null,
   "metadata": {},
   "outputs": [],
   "source": [
    "print(\"Hello, World!\")\n",
    "print(\"Sun is shinging.\")"
   ]
  },
  {
   "source": [
    "### 확인문제 5"
   ],
   "cell_type": "markdown",
   "metadata": {}
  },
  {
   "cell_type": "code",
   "execution_count": null,
   "metadata": {},
   "outputs": [],
   "source": [
    "print('\"혼공프\"로 시작하는 프로그래밍!')\n",
    "print('\\'혼공프\\'로 시작하는 프로그래밍!')\n",
    "print(\"'혼공프'로 시작하는 프로그래밍!\")\n",
    "print(\"\\\"혼공프\\\"로 시작하는 프로그래밍!\")\n",
    "print(\"Sun,\\nMoon,\\nSky\")"
   ]
  }
 ]
}
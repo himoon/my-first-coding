{
 "metadata": {
  "language_info": {
   "codemirror_mode": {
    "name": "ipython",
    "version": 3
   },
   "file_extension": ".py",
   "mimetype": "text/x-python",
   "name": "python",
   "nbconvert_exporter": "python",
   "pygments_lexer": "ipython3",
   "version": "3.8.9"
  },
  "orig_nbformat": 4,
  "kernelspec": {
   "name": "python3",
   "display_name": "Python 3.8.9 64-bit ('.venv': venv)"
  },
  "interpreter": {
   "hash": "da079680f061b1b71279786d92ed74b3ca3fcb31d80397c0ef19f5994c1c6403"
  }
 },
 "nbformat": 4,
 "nbformat_minor": 2,
 "cells": [
  {
   "source": [
    "# 혼자 공부하는 첫 프로그래밍 with 파이썬 예제코드 - Chapter 04-2 효율적인 데이터관리 2: 딕셔너리"
   ],
   "cell_type": "markdown",
   "metadata": {}
  },
  {
   "source": [
    "### data03.py"
   ],
   "cell_type": "markdown",
   "metadata": {}
  },
  {
   "cell_type": "code",
   "execution_count": null,
   "metadata": {},
   "outputs": [],
   "source": [
    "yo_qty_1 = [15, 16, 20, 29]\n",
    "yo_qty_2 = [8, 11, 25, 21]\n",
    "yo_qty_3 = [17, 9, 17, 24]\n",
    "\n",
    "print(\"드링킹 요구르트 1월 판매량 합계 : \" + str(sum(yo_qty_1)))\n",
    "print(\"드링킹 요구르트 2월 판매량 합계 : \" + str(sum(yo_qty_2)))\n",
    "print(\"드링킹 요구르트 3월 판매량 합계 : \" + str(sum(yo_qty_3)))"
   ]
  },
  {
   "source": [
    "### data04.py"
   ],
   "cell_type": "markdown",
   "metadata": {}
  },
  {
   "cell_type": "code",
   "execution_count": null,
   "metadata": {},
   "outputs": [],
   "source": [
    "yo_qty_1 = [15, 16, 20, 29]\n",
    "yo_qty_2 = [8, 11, 25, 21]\n",
    "yo_qty_3 = [17, 9, 17, 24]\n",
    "yo_qty_4 = [19, 29, 29, 4]\n",
    "yo_qty_5 = [5, 20, 18, 12]\n",
    "yo_qty_6 = [21, 7, 27, 14]\n",
    "\n",
    "print(\"드링킹 요구르트 1월 판매량 합계 : \" + str(sum(yo_qty_1)))\n",
    "print(\"드링킹 요구르트 2월 판매량 합계 : \" + str(sum(yo_qty_2)))\n",
    "print(\"드링킹 요구르트 3월 판매량 합계 : \" + str(sum(yo_qty_3)))\n",
    "print(\"드링킹 요구르트 4월 판매량 합계 : \" + str(sum(yo_qty_4)))\n",
    "print(\"드링킹 요구르트 5월 판매량 합계 : \" + str(sum(yo_qty_5)))\n",
    "print(\"드링킹 요구르트 6월 판매량 합계 : \" + str(sum(yo_qty_6)))"
   ]
  },
  {
   "cell_type": "code",
   "execution_count": null,
   "metadata": {},
   "outputs": [],
   "source": []
  }
 ]
}
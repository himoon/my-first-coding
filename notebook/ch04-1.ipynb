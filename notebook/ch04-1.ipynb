{
 "metadata": {
  "language_info": {
   "codemirror_mode": {
    "name": "ipython",
    "version": 3
   },
   "file_extension": ".py",
   "mimetype": "text/x-python",
   "name": "python",
   "nbconvert_exporter": "python",
   "pygments_lexer": "ipython3",
   "version": "3.8.9"
  },
  "orig_nbformat": 4,
  "kernelspec": {
   "name": "python3",
   "display_name": "Python 3.8.9 64-bit ('.venv': venv)"
  },
  "interpreter": {
   "hash": "da079680f061b1b71279786d92ed74b3ca3fcb31d80397c0ef19f5994c1c6403"
  }
 },
 "nbformat": 4,
 "nbformat_minor": 2,
 "cells": [
  {
   "source": [
    "# 혼자 공부하는 첫 프로그래밍 with 파이썬 예제코드 - Chapter 04-1 효율적인 데이터관리 1: 리스트"
   ],
   "cell_type": "markdown",
   "metadata": {}
  },
  {
   "source": [
    "### data01.py"
   ],
   "cell_type": "markdown",
   "metadata": {}
  },
  {
   "cell_type": "code",
   "execution_count": null,
   "metadata": {},
   "outputs": [],
   "source": [
    "yo_price = 1800\n",
    "yo_qty = 4\n",
    "milk_price = 1500\n",
    "milk_qty = 2\n",
    "\n",
    "yo_sales = yo_price * yo_qty\n",
    "milk_sales = milk_price * milk_qty\n",
    "\n",
    "total_sales = yo_sales + milk_sales\n",
    "total_qty = yo_qty + milk_qty\n",
    "\n",
    "print(\"드링킹 요구르트 매출액 : \" + str(yo_sales))\n",
    "print(\"딸기 우유 매출액 : \" + str(milk_sales))\n",
    "print(\"-\" * 20)\n",
    "print(\"총매출액 : \" + str(total_sales))\n",
    "print(\"총판매량 : \" + str(total_qty))"
   ]
  },
  {
   "source": [
    "### data02.py"
   ],
   "cell_type": "markdown",
   "metadata": {}
  },
  {
   "cell_type": "code",
   "execution_count": null,
   "metadata": {},
   "outputs": [],
   "source": [
    "yo_price = 1800\n",
    "yo_qty = 4\n",
    "milk_price = 1500\n",
    "milk_qty = 2\n",
    "hr_price = 1000\n",
    "hr_qty = 3\n",
    "\n",
    "yo_sales = yo_price * yo_qty\n",
    "milk_sales = milk_price * milk_qty\n",
    "hr_sales = hr_price * hr_qty\n",
    "\n",
    "total_sales = yo_sales + milk_sales + hr_sales\n",
    "total_qty = yo_qty + milk_qty + hr_qty\n",
    "\n",
    "print(\"드링킹 요구르트 매출액 : \" + str(yo_sales))\n",
    "print(\"딸기 우유 매출액 : \" + str(milk_sales))\n",
    "print(\"홈런공 매출액 : \" + str(hr_sales))\n",
    "print(\"-\" * 20)\n",
    "print(\"총매출액 : \" + str(total_sales))\n",
    "print(\"총판매량 : \" + str(total_qty))"
   ]
  }
 ]
}
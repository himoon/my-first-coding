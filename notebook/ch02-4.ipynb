{
 "metadata": {
  "language_info": {
   "codemirror_mode": {
    "name": "ipython",
    "version": 3
   },
   "file_extension": ".py",
   "mimetype": "text/x-python",
   "name": "python",
   "nbconvert_exporter": "python",
   "pygments_lexer": "ipython3",
   "version": "3.8.9"
  },
  "orig_nbformat": 4,
  "kernelspec": {
   "name": "python3",
   "display_name": "Python 3.8.9 64-bit ('.venv': venv)"
  },
  "interpreter": {
   "hash": "da079680f061b1b71279786d92ed74b3ca3fcb31d80397c0ef19f5994c1c6403"
  }
 },
 "nbformat": 4,
 "nbformat_minor": 2,
 "cells": [
  {
   "source": [
    "# 혼자 공부하는 첫 프로그래밍 with 파이썬 예제코드 - Chapter 02-4 변수"
   ],
   "cell_type": "markdown",
   "metadata": {}
  },
  {
   "source": [
    "### var01.py"
   ],
   "cell_type": "markdown",
   "metadata": {}
  },
  {
   "cell_type": "code",
   "execution_count": null,
   "metadata": {},
   "outputs": [],
   "source": [
    "message = \"Hello, World!\"\n",
    "print(message)"
   ]
  },
  {
   "source": [
    "### 확인문제 2"
   ],
   "cell_type": "markdown",
   "metadata": {}
  },
  {
   "cell_type": "code",
   "execution_count": null,
   "metadata": {},
   "outputs": [],
   "source": [
    "hello = \"Hello\"\n",
    "world = \"World!\"\n",
    "print(hello + \", \" + world)"
   ]
  },
  {
   "source": [
    "### 확인문제 3"
   ],
   "cell_type": "markdown",
   "metadata": {}
  },
  {
   "cell_type": "code",
   "execution_count": null,
   "metadata": {},
   "outputs": [],
   "source": [
    "quotient = 323 // 60\n",
    "remainder = 323 % 60\n",
    "print(quotient)\n",
    "print(remainder)"
   ]
  },
  {
   "source": [
    "### 확인문제  4"
   ],
   "cell_type": "markdown",
   "metadata": {}
  },
  {
   "cell_type": "code",
   "execution_count": null,
   "metadata": {},
   "outputs": [],
   "source": [
    "data = \"안녕하세요\"\n",
    "print(data)\n",
    "data = \"만나서 반가워요\"\n",
    "data = \"나한빛입니다\"\n",
    "print(data)"
   ]
  }
 ]
}
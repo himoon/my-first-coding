{
 "metadata": {
  "language_info": {
   "codemirror_mode": {
    "name": "ipython",
    "version": 3
   },
   "file_extension": ".py",
   "mimetype": "text/x-python",
   "name": "python",
   "nbconvert_exporter": "python",
   "pygments_lexer": "ipython3",
   "version": "3.8.9"
  },
  "orig_nbformat": 4,
  "kernelspec": {
   "name": "python3",
   "display_name": "Python 3.8.9 64-bit ('.venv': venv)"
  },
  "interpreter": {
   "hash": "da079680f061b1b71279786d92ed74b3ca3fcb31d80397c0ef19f5994c1c6403"
  }
 },
 "nbformat": 4,
 "nbformat_minor": 2,
 "cells": [
  {
   "source": [
    "# 혼자 공부하는 첫 프로그래밍 with 파이썬 예제코드 - Chapter 02-3 숫자 데이터"
   ],
   "cell_type": "markdown",
   "metadata": {}
  },
  {
   "source": [
    "### int01.py"
   ],
   "cell_type": "markdown",
   "metadata": {}
  },
  {
   "cell_type": "code",
   "execution_count": null,
   "metadata": {},
   "outputs": [],
   "source": [
    "print(1 + 2)\n",
    "print(3)"
   ]
  },
  {
   "source": [
    "### flo01.py"
   ],
   "cell_type": "markdown",
   "metadata": {}
  },
  {
   "cell_type": "code",
   "execution_count": null,
   "metadata": {},
   "outputs": [],
   "source": [
    "print(0.1 + 0.2)\n",
    "print(0.3)"
   ]
  },
  {
   "source": [
    "### bin01.py"
   ],
   "cell_type": "markdown",
   "metadata": {}
  },
  {
   "cell_type": "code",
   "execution_count": null,
   "metadata": {},
   "outputs": [],
   "source": [
    "print(0.1 + 0.1)\n",
    "print(0.1 + 0.2)\n",
    "print(0.1 + 0.3)\n",
    "print(0.1 + 0.4)\n",
    "print(0.1 + 0.5)\n",
    "print(0.1 + 0.6)\n",
    "print(0.1 + 0.7)\n",
    "print(0.1 + 0.8)\n",
    "print(0.1 + 0.9)"
   ]
  },
  {
   "source": [
    "### bin02.py"
   ],
   "cell_type": "markdown",
   "metadata": {}
  },
  {
   "cell_type": "code",
   "execution_count": null,
   "metadata": {},
   "outputs": [],
   "source": [
    "print(type(0.0))\n",
    "print(type(0))"
   ]
  },
  {
   "source": [
    "### fou01.py"
   ],
   "cell_type": "markdown",
   "metadata": {}
  },
  {
   "cell_type": "code",
   "execution_count": null,
   "metadata": {},
   "outputs": [],
   "source": [
    "print(10 * 1000 * 1000 * 10)         # 1천만 원 * 10배\n",
    "print(10 * 1000 * 1000 * 1 / 10)     # 1천만 원 * 1/10배\n",
    "print(10 * 1000 * 1000 + 30 * 1000)  # 1천만 원 + 3만 원\n",
    "print(10 * 1000 * 1000 - 100 * 1000) # 1천만 원 - 10만 원"
   ]
  },
  {
   "source": [
    "### fou02.py"
   ],
   "cell_type": "markdown",
   "metadata": {}
  },
  {
   "cell_type": "code",
   "execution_count": null,
   "metadata": {},
   "outputs": [],
   "source": [
    "print(3 % 2)\n",
    "print(3.25 % 7)"
   ]
  },
  {
   "source": [
    "### fou03.py"
   ],
   "cell_type": "markdown",
   "metadata": {}
  },
  {
   "cell_type": "code",
   "execution_count": null,
   "metadata": {},
   "outputs": [],
   "source": [
    "print(323 // 60)\n",
    "print(323 % 60)"
   ]
  },
  {
   "source": [
    "### fou04.py"
   ],
   "cell_type": "markdown",
   "metadata": {}
  },
  {
   "cell_type": "code",
   "execution_count": null,
   "metadata": {},
   "outputs": [],
   "source": [
    "print(3 ** 2)\n",
    "print(3.25 ** 3)\n",
    "print(4 ** 0.5)"
   ]
  },
  {
   "source": [
    "### fou05.py"
   ],
   "cell_type": "markdown",
   "metadata": {}
  },
  {
   "cell_type": "code",
   "execution_count": null,
   "metadata": {},
   "outputs": [],
   "source": [
    "print(3 + 2 * 5)\n",
    "print(3 * 2 + 5)\n",
    "print(3 / 2 * 5)"
   ]
  },
  {
   "source": [
    "### fou06.py"
   ],
   "cell_type": "markdown",
   "metadata": {}
  },
  {
   "cell_type": "code",
   "execution_count": null,
   "metadata": {},
   "outputs": [],
   "source": [
    "print(3 + (2 * 5))\n",
    "print((3 * 2) + 5)\n",
    "print((3 / 2) * 5)"
   ]
  },
  {
   "source": [
    "### 확인문제 2"
   ],
   "cell_type": "markdown",
   "metadata": {}
  },
  {
   "cell_type": "code",
   "execution_count": null,
   "metadata": {},
   "outputs": [],
   "source": [
    "print(\"숫자 데이터(정수) 확인 문제\")\n",
    "print(\"=*\" * 5 + \"=\")\n",
    "print(3 + 2)\n",
    "print(3 - 2)\n",
    "print(3 * 2)\n",
    "print(3 / 2)\n",
    "print(3 ** 2)\n",
    "print(323 // 60)\n",
    "print(323 % 60)"
   ]
  },
  {
   "source": [
    "### 확인문제 3"
   ],
   "cell_type": "markdown",
   "metadata": {}
  },
  {
   "cell_type": "code",
   "execution_count": null,
   "metadata": {},
   "outputs": [],
   "source": [
    "print(\"숫자 데이터(부동 소수점 수) 확인 문제\")\n",
    "print(\"=*\" * 5 + \"=\")\n",
    "print(323.0 + 60)\n",
    "print(323.0 - 60)\n",
    "print(323.0 * 60)\n",
    "print(323.0 / 60)\n",
    "print(323.0 ** 60)\n",
    "print(323.0 // 60)\n",
    "print(323.0 % 60)"
   ]
  },
  {
   "source": [
    "### 확인문제 4"
   ],
   "cell_type": "markdown",
   "metadata": {}
  },
  {
   "cell_type": "code",
   "execution_count": null,
   "metadata": {},
   "outputs": [],
   "source": [
    "print(\"연산자 우선순위 확인 문제\")\n",
    "print(\"=*\" * 5 + \"=\")\n",
    "print(23 + 323 // 60 * 100)\n",
    "print(23 + (323 // 60 * 100))\n",
    "print((23 + 323) // 60 * 100)"
   ]
  }
 ]
}
{
 "metadata": {
  "language_info": {
   "codemirror_mode": {
    "name": "ipython",
    "version": 3
   },
   "file_extension": ".py",
   "mimetype": "text/x-python",
   "name": "python",
   "nbconvert_exporter": "python",
   "pygments_lexer": "ipython3",
   "version": "3.8.9"
  },
  "orig_nbformat": 4,
  "kernelspec": {
   "name": "python3",
   "display_name": "Python 3.8.9 64-bit ('.venv': venv)"
  },
  "interpreter": {
   "hash": "da079680f061b1b71279786d92ed74b3ca3fcb31d80397c0ef19f5994c1c6403"
  }
 },
 "nbformat": 4,
 "nbformat_minor": 2,
 "cells": [
  {
   "source": [
    "# 혼자 공부하는 첫 프로그래밍 with 파이썬 예제코드 - Chapter 03-2 선택 구조를 파이썬으로 코딩하는 방법"
   ],
   "cell_type": "markdown",
   "metadata": {}
  },
  {
   "source": [
    "### torf01.py"
   ],
   "cell_type": "markdown",
   "metadata": {}
  },
  {
   "cell_type": "code",
   "execution_count": null,
   "metadata": {},
   "outputs": [],
   "source": [
    "print(True)\n",
    "print(False)"
   ]
  },
  {
   "source": [
    "### com01.py"
   ],
   "cell_type": "markdown",
   "metadata": {}
  },
  {
   "cell_type": "code",
   "execution_count": null,
   "metadata": {},
   "outputs": [],
   "source": [
    "print(325 > 325)\n",
    "print(325 != 325)\n",
    "print(0 == 0)\n",
    "print(\"abc\" <= \"abc\")\n",
    "print(\"323\" != \"323\")"
   ]
  },
  {
   "source": [
    "### boo01.py"
   ],
   "cell_type": "markdown",
   "metadata": {}
  },
  {
   "cell_type": "code",
   "execution_count": null,
   "metadata": {},
   "outputs": [],
   "source": [
    "my_age = 20\n",
    "my_money = 10000\n",
    "print(my_age > 19)\n",
    "print(my_money >= 25000)\n",
    "print(my_age >= 19 and my_money >= 25000)"
   ]
  },
  {
   "source": [
    "### ife01.py"
   ],
   "cell_type": "markdown",
   "metadata": {}
  },
  {
   "cell_type": "code",
   "execution_count": null,
   "metadata": {},
   "outputs": [],
   "source": [
    "weather = \"맑음\"\n",
    "print(\"비가 내리는가?\", weather == \"비\")\n",
    "if weather == \"비\":\n",
    "    print(\"우산을 가져간다\")\n",
    "else:\n",
    "    print(\"우산을 가져가지 않는다\")"
   ]
  },
  {
   "source": [
    "### ife02.py"
   ],
   "cell_type": "markdown",
   "metadata": {}
  },
  {
   "cell_type": "code",
   "execution_count": null,
   "metadata": {},
   "outputs": [],
   "source": [
    "weather = \"비\"\n",
    "print(\"비가 내리는가?\", weather == \"비\")\n",
    "if weather == \"비\":\n",
    "    print(\"우산을 가져간다\")\n",
    "else:\n",
    "    print(\"우산을 가져가지 않는다\")"
   ]
  },
  {
   "source": [
    "### ife03.py"
   ],
   "cell_type": "markdown",
   "metadata": {}
  },
  {
   "cell_type": "code",
   "execution_count": null,
   "metadata": {},
   "outputs": [],
   "source": [
    "opening = 54700\n",
    "closing = 55700\n",
    "diff = closing - opening\n",
    "if diff > 0:\n",
    "    print(\"↑\" + str(diff))\n",
    "elif diff < 0:\n",
    "    print(\"↓\" + str(abs(diff)))\n",
    "else:\n",
    "    print(\"-\")"
   ]
  },
  {
   "source": [
    "### ife04.py"
   ],
   "cell_type": "markdown",
   "metadata": {}
  },
  {
   "cell_type": "code",
   "execution_count": null,
   "metadata": {},
   "outputs": [],
   "source": [
    "opening = 54700\n",
    "closing = 55700\n",
    "diff = closing - opening\n",
    "if diff > 0:\n",
    "    pass\n",
    "    pass\n",
    "elif diff < 0:\n",
    "    pass\n",
    "    pass\n",
    "else:\n",
    "    pass\n",
    "    print(diff)\n",
    "print(\"종료!\")"
   ]
  },
  {
   "source": [
    "### 확인문제 1"
   ],
   "cell_type": "markdown",
   "metadata": {}
  },
  {
   "cell_type": "code",
   "execution_count": null,
   "metadata": {},
   "outputs": [],
   "source": [
    "print(True == True)\n",
    "print(\"True\" == True)\n",
    "print(323 // 60 == 5)\n",
    "print(\"abc\" > \"Abc\")"
   ]
  },
  {
   "source": [
    "### 확인문제 2"
   ],
   "cell_type": "markdown",
   "metadata": {}
  },
  {
   "cell_type": "code",
   "execution_count": null,
   "metadata": {},
   "outputs": [],
   "source": [
    "print(\"시작!\")\n",
    "if True:\n",
    "    print(\"예!\")\n",
    "else:\n",
    "    print(\"아니오!\")\n",
    "print(\"끝!\")"
   ]
  },
  {
   "source": [
    "### 확인문제 3"
   ],
   "cell_type": "markdown",
   "metadata": {}
  },
  {
   "cell_type": "code",
   "execution_count": null,
   "metadata": {},
   "outputs": [],
   "source": [
    "hobby = \"운동\"\n",
    "\n",
    "print(\"시작!\")\n",
    "if hobby == \"독서\":\n",
    "    print(\"취미가 독서군요!\")\n",
    "elif hobby == \"운동\":\n",
    "    print(\"취미로 운동을 하는군요!\")\n",
    "elif hobby == \"요리\":\n",
    "    print(\"요리 전문가를 꿈꾸시나요?!\")\n",
    "else:\n",
    "    print(hobby + \"? 흥미로운 취미로군요!\")\n",
    "print(\"끝!\")"
   ]
  }
 ]
}
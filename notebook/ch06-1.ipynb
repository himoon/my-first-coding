{
 "metadata": {
  "language_info": {
   "codemirror_mode": {
    "name": "ipython",
    "version": 3
   },
   "file_extension": ".py",
   "mimetype": "text/x-python",
   "name": "python",
   "nbconvert_exporter": "python",
   "pygments_lexer": "ipython3",
   "version": "3.8.9"
  },
  "orig_nbformat": 4,
  "kernelspec": {
   "name": "python3",
   "display_name": "Python 3.8.9 64-bit ('.venv': venv)"
  },
  "interpreter": {
   "hash": "da079680f061b1b71279786d92ed74b3ca3fcb31d80397c0ef19f5994c1c6403"
  }
 },
 "nbformat": 4,
 "nbformat_minor": 2,
 "cells": [
  {
   "source": [
    "# 혼자 공부하는 첫 프로그래밍 with 파이썬 예제코드 - Chapter 06-1 함수 활용하기"
   ],
   "cell_type": "markdown",
   "metadata": {}
  },
  {
   "source": [
    "### abs01.py"
   ],
   "cell_type": "markdown",
   "metadata": {}
  },
  {
   "cell_type": "code",
   "execution_count": null,
   "metadata": {},
   "outputs": [],
   "source": [
    "print(abs(3.23))\n",
    "print(abs(-3.23))"
   ]
  },
  {
   "source": [
    "### builtin-len01.py"
   ],
   "cell_type": "markdown",
   "metadata": {}
  },
  {
   "cell_type": "code",
   "execution_count": null,
   "metadata": {},
   "outputs": [],
   "source": [
    "print(len(\"혼공프\"))\n",
    "print(len([1, 2]))\n",
    "print(len({\"이름\": \"혼공프\", \"사용언어\": \"파이썬\", \"대상독자\": \"입문자\"}))"
   ]
  },
  {
   "source": [
    "### sum01.py"
   ],
   "cell_type": "markdown",
   "metadata": {}
  },
  {
   "cell_type": "code",
   "execution_count": null,
   "metadata": {},
   "outputs": [],
   "source": [
    "print(sum([500, 20, 3]))\n",
    "print(sum([3, 0.23]))"
   ]
  },
  {
   "source": [
    "### coffee01.py"
   ],
   "cell_type": "markdown",
   "metadata": {}
  },
  {
   "cell_type": "code",
   "execution_count": null,
   "metadata": {},
   "outputs": [],
   "source": [
    "print(\"커피 장인\")\n",
    "print(\"여의도 본점\")"
   ]
  },
  {
   "source": [
    "### func-basic01.py"
   ],
   "cell_type": "markdown",
   "metadata": {}
  },
  {
   "cell_type": "code",
   "execution_count": null,
   "metadata": {},
   "outputs": [],
   "source": [
    "def print_names():\n",
    "    print(\"커피 장인\")\n",
    "    print(\"여의도 본점\")\n",
    "\n",
    "print_names()"
   ]
  },
  {
   "source": [
    "### func-return01.py"
   ],
   "cell_type": "markdown",
   "metadata": {}
  },
  {
   "cell_type": "code",
   "execution_count": null,
   "metadata": {},
   "outputs": [],
   "source": [
    "def get_shop_name():\n",
    "    return \"커피 장인\"\n",
    "\n",
    "print(get_shop_name())"
   ]
  },
  {
   "source": [
    "### func-return02.py"
   ],
   "cell_type": "markdown",
   "metadata": {}
  },
  {
   "cell_type": "code",
   "execution_count": null,
   "metadata": {},
   "outputs": [],
   "source": [
    "def get_shop_name():\n",
    "    return \"커피 장인\"\n",
    "\n",
    "def get_branch_name():\n",
    "    return \"여의도 본점\"\n",
    "\n",
    "def print_names():\n",
    "    print(get_shop_name())\n",
    "    print(get_branch_name())\n",
    "\n",
    "print_names()"
   ]
  },
  {
   "source": [
    "### func-return03.py"
   ],
   "cell_type": "markdown",
   "metadata": {}
  },
  {
   "cell_type": "code",
   "execution_count": null,
   "metadata": {},
   "outputs": [],
   "source": [
    "def no_return():\n",
    "    pass\n",
    "\n",
    "def no_return_value():\n",
    "    return\n",
    "\n",
    "print(no_return())\n",
    "print(no_return_value())"
   ]
  },
  {
   "source": [
    "### func-input01.py"
   ],
   "cell_type": "markdown",
   "metadata": {}
  },
  {
   "cell_type": "code",
   "execution_count": null,
   "metadata": {},
   "outputs": [],
   "source": [
    "def add(x, y):\n",
    "    return x + y\n",
    "\n",
    "print(add(3, 2))"
   ]
  },
  {
   "source": [
    "### func-input02.py"
   ],
   "cell_type": "markdown",
   "metadata": {}
  },
  {
   "cell_type": "code",
   "execution_count": null,
   "metadata": {},
   "outputs": [],
   "source": [
    "order_detail = []\n",
    "\n",
    "def make_order(name, qty):\n",
    "    order_detail.append({\"이름\": name, \"수량\": qty})\n",
    "\n",
    "print(order_detail)\n",
    "make_order(\"아메리카노\", 2)\n",
    "make_order(\"플랫 화이트\", 1)\n",
    "print(order_detail)"
   ]
  },
  {
   "source": [
    "### 확인문제 2"
   ],
   "cell_type": "markdown",
   "metadata": {}
  },
  {
   "cell_type": "code",
   "execution_count": null,
   "metadata": {},
   "outputs": [],
   "source": [
    "def no_return():\n",
    "    pass\n",
    "\n",
    "def no_return_value():\n",
    "    return\n",
    "\n",
    "print(no_return())\n",
    "print(no_return_value())"
   ]
  },
  {
   "source": [
    "### 확인문제 3"
   ],
   "cell_type": "markdown",
   "metadata": {}
  },
  {
   "cell_type": "code",
   "execution_count": null,
   "metadata": {},
   "outputs": [],
   "source": [
    "def print_elements(arg):\n",
    "    for x in arg:\n",
    "        print(x)\n",
    "\n",
    "print_elements([\"Sun\", \"is\", \"rising\"])"
   ]
  },
  {
   "source": [
    "### 확인문제 4"
   ],
   "cell_type": "markdown",
   "metadata": {}
  },
  {
   "cell_type": "code",
   "execution_count": null,
   "metadata": {},
   "outputs": [],
   "source": [
    "def power(base, exp):\n",
    "    return base ** exp\n",
    "\n",
    "print(power(3, 2))\n",
    "print(power(10, -2))"
   ]
  },
  {
   "source": [
    "### 확인문제 5"
   ],
   "cell_type": "markdown",
   "metadata": {}
  },
  {
   "cell_type": "code",
   "execution_count": null,
   "metadata": {},
   "outputs": [],
   "source": [
    "def square(dataset):\n",
    "    result = []\n",
    "    for x in dataset:\n",
    "        result.append(x * x)\n",
    "    return result\n",
    "\n",
    "print(square([3, 2, 5]))\n",
    "print(square([323, 60]))"
   ]
  },
  {
   "source": [
    "### 확인문제 6"
   ],
   "cell_type": "markdown",
   "metadata": {}
  },
  {
   "cell_type": "code",
   "execution_count": null,
   "metadata": {},
   "outputs": [],
   "source": [
    "def dict_to_list(dataset):\n",
    "    result = []\n",
    "    for x in dataset:\n",
    "        result.append([x, dataset[x]])\n",
    "    return result\n",
    "\n",
    "data = {\"my_key\": \"my_value\", \"your_key\": \"your_value\"}\n",
    "print(dict_to_list(data))"
   ]
  },
  {
   "source": [
    "### 확인문제 7"
   ],
   "cell_type": "markdown",
   "metadata": {}
  },
  {
   "cell_type": "code",
   "execution_count": null,
   "metadata": {},
   "outputs": [],
   "source": [
    "def count_down(number):\n",
    "    result = []\n",
    "    for x in range(number):\n",
    "        result.append(number - x)\n",
    "    return result\n",
    "\n",
    "print(count_down(10))"
   ]
  }
 ]
}
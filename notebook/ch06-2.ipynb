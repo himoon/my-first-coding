{
 "metadata": {
  "language_info": {
   "codemirror_mode": {
    "name": "ipython",
    "version": 3
   },
   "file_extension": ".py",
   "mimetype": "text/x-python",
   "name": "python",
   "nbconvert_exporter": "python",
   "pygments_lexer": "ipython3",
   "version": "3.8.9"
  },
  "orig_nbformat": 4,
  "kernelspec": {
   "name": "python3",
   "display_name": "Python 3.8.9 64-bit ('.venv': venv)"
  },
  "interpreter": {
   "hash": "da079680f061b1b71279786d92ed74b3ca3fcb31d80397c0ef19f5994c1c6403"
  }
 },
 "nbformat": 4,
 "nbformat_minor": 2,
 "cells": [
  {
   "source": [
    "# 혼자 공부하는 첫 프로그래밍 with 파이썬 예제코드 - Chapter 06-2 다양한 함수의 사례"
   ],
   "cell_type": "markdown",
   "metadata": {}
  },
  {
   "source": [
    "### ex-isodd.py"
   ],
   "cell_type": "markdown",
   "metadata": {}
  },
  {
   "cell_type": "code",
   "execution_count": null,
   "metadata": {},
   "outputs": [],
   "source": [
    "def is_odd_number(arg):\n",
    "    if arg % 2 == 1:\n",
    "        return True\n",
    "    return False\n",
    "\n",
    "print(is_odd_number(3))\n",
    "print(is_odd_number(2))"
   ]
  },
  {
   "source": [
    "### ex-box.py"
   ],
   "cell_type": "markdown",
   "metadata": {}
  },
  {
   "cell_type": "code",
   "execution_count": null,
   "metadata": {},
   "outputs": [],
   "source": [
    "def get_bordered_str(arg):\n",
    "    result = \"\"\n",
    "    sep = \"*\"\n",
    "    length = len(arg)\n",
    "    result = result + (sep * (length + 4) + \"\\n\")\n",
    "    result = result + (sep + \" \" + arg + \" \" + sep + \"\\n\")\n",
    "    result = result + (sep * (length + 4))\n",
    "    return result\n",
    "\n",
    "print(get_bordered_str(\"Hello, World!\"))\n",
    "print(get_bordered_str(\"323\"))"
   ]
  },
  {
   "source": [
    "### ex-list.py"
   ],
   "cell_type": "markdown",
   "metadata": {}
  },
  {
   "cell_type": "code",
   "execution_count": null,
   "metadata": {},
   "outputs": [],
   "source": [
    "def get_sum_and_average(arg):\n",
    "    length = len(arg)\n",
    "    if length == 0:\n",
    "        return \"[오류] 요소의 개수가 0 입니다\"\n",
    "\n",
    "    total = 0\n",
    "    for x in arg:\n",
    "        total = total + x\n",
    "    return {\"합계\": total, \"평균\": total / length}\n",
    "\n",
    "print(get_sum_and_average([]))\n",
    "print(get_sum_and_average([3, 2]))\n",
    "print(get_sum_and_average([-1, 0, 1, 2, 3]))"
   ]
  },
  {
   "source": [
    "### ex-time.py"
   ],
   "cell_type": "markdown",
   "metadata": {}
  },
  {
   "cell_type": "code",
   "execution_count": null,
   "metadata": {},
   "outputs": [],
   "source": [
    "def convert_seconds(arg):\n",
    "    if arg < 60:\n",
    "        # 60초 미만이라면, 초만 출력\n",
    "        return str(arg) + \" 초\"\n",
    "\n",
    "    seconds = arg % 60\n",
    "    minutes = arg // 60\n",
    "    if minutes < 60:\n",
    "        # 60분 미만이라면, 분과 초를 출력\n",
    "        return str(minutes) + \" 분 \" + str(seconds) + \" 초\"\n",
    "\n",
    "    # 그 외의 경우, 시간, 분, 초를 출력\n",
    "    hours = minutes // 60\n",
    "    minutes = minutes % 60\n",
    "    return str(hours) + \" 시간 \" + str(minutes) + \" 분 \" + str(seconds) + \" 초 \"\n",
    "\n",
    "print(convert_seconds(3))\n",
    "print(convert_seconds(60))\n",
    "print(convert_seconds(323))\n",
    "print(convert_seconds(60 * 60 + 323 * 2))"
   ]
  },
  {
   "source": [
    "### 확인문제 1"
   ],
   "cell_type": "markdown",
   "metadata": {}
  },
  {
   "cell_type": "code",
   "execution_count": null,
   "metadata": {},
   "outputs": [],
   "source": [
    "def is_odd(arg):\n",
    "    if arg % 2 == 1:\n",
    "        return True\n",
    "    return False\n",
    "\n",
    "print(is_odd(3))\n",
    "print(is_odd(2))"
   ]
  },
  {
   "source": [
    "### 확인문제 2"
   ],
   "cell_type": "markdown",
   "metadata": {}
  },
  {
   "cell_type": "code",
   "execution_count": null,
   "metadata": {},
   "outputs": [],
   "source": [
    "def get_sum_of_two_numbers(start, end):\n",
    "    result = 0\n",
    "    for x in range(start, end + 1):\n",
    "        result = result + x\n",
    "    return result\n",
    "\n",
    "print(get_sum_of_two_numbers(1, 10))\n",
    "print(get_sum_of_two_numbers(1, 100))"
   ]
  },
  {
   "source": [
    "### 확인문제 3"
   ],
   "cell_type": "markdown",
   "metadata": {}
  },
  {
   "cell_type": "code",
   "execution_count": null,
   "metadata": {},
   "outputs": [],
   "source": [
    "def print_hashes(rows):\n",
    "    for x in range(rows):\n",
    "        print(\"#\" * (x + 1))\n",
    "\n",
    "print_hashes(3)"
   ]
  },
  {
   "source": [
    "### 확인문제 4"
   ],
   "cell_type": "markdown",
   "metadata": {}
  },
  {
   "cell_type": "code",
   "execution_count": null,
   "metadata": {},
   "outputs": [],
   "source": [
    "def print_reverse_hashes(rows):\n",
    "    for x in range(rows):\n",
    "        count = x + 1\n",
    "        print(\" \" * (rows - count) + \"#\" * count)\n",
    "\n",
    "print_reverse_hashes(4)"
   ]
  },
  {
   "source": [
    "### 확인문제 5"
   ],
   "cell_type": "markdown",
   "metadata": {}
  },
  {
   "cell_type": "code",
   "execution_count": null,
   "metadata": {},
   "outputs": [],
   "source": [
    "def replace_digits(str_):\n",
    "    return str_[:9] + \"****\"\n",
    "\n",
    "print(replace_digits(\"010-1234-5678\"))\n",
    "print(replace_digits(\"010-9876-5432\"))"
   ]
  }
 ]
}